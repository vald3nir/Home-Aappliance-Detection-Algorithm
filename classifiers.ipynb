{
 "cells": [
  {
   "cell_type": "code",
   "execution_count": 1,
   "metadata": {},
   "outputs": [],
   "source": [
    "from sklearn import metrics\n",
    "from sklearn.ensemble import RandomForestClassifier, VotingClassifier\n",
    "from sklearn.model_selection import train_test_split\n",
    "from sklearn.neighbors import KNeighborsClassifier\n",
    "from sklearn.neural_network import MLPClassifier\n",
    "from sklearn.preprocessing import StandardScaler\n",
    "from sklearn.svm import SVC\n",
    "from sklearn.tree import DecisionTreeClassifier"
   ]
  },
  {
   "cell_type": "code",
   "execution_count": 2,
   "metadata": {},
   "outputs": [],
   "source": [
    "# Reading the base dataset\n",
    "import pandas as pd\n",
    "dataset = pd.read_csv('data/dataset.csv')"
   ]
  },
  {
   "cell_type": "code",
   "execution_count": 3,
   "metadata": {},
   "outputs": [],
   "source": [
    "# Splitting data sets for training\n",
    "inputs = dataset.iloc[:, 1:].values\n",
    "outputs = dataset.iloc[:, 0].values\n",
    "\n",
    "x_train, x_test, y_train, y_test = train_test_split(inputs, outputs, test_size=.3)"
   ]
  },
  {
   "cell_type": "code",
   "execution_count": 4,
   "metadata": {},
   "outputs": [],
   "source": [
    "# Standardizing the dataset\n",
    "scaler = StandardScaler()\n",
    "scaler.fit(x_train)\n",
    "\n",
    "x_train = scaler.transform(x_train)\n",
    "x_test = scaler.transform(x_test)"
   ]
  },
  {
   "cell_type": "markdown",
   "metadata": {},
   "source": [
    "![alt text](assets/randomforestclassifier.png \"Title\")"
   ]
  },
  {
   "cell_type": "code",
   "execution_count": 5,
   "metadata": {},
   "outputs": [],
   "source": [
    "classifier = RandomForestClassifier()\n",
    "classifier.fit(x_train, y_train)\n",
    "y_predict = classifier.predict(x_test)"
   ]
  },
  {
   "cell_type": "code",
   "execution_count": 6,
   "metadata": {},
   "outputs": [
    {
     "name": "stdout",
     "output_type": "stream",
     "text": [
      "                       precision    recall  f1-score   support\n",
      "\n",
      "            Air Fryer       1.00      1.00      1.00        33\n",
      "            Batedeira       1.00      1.00      1.00        24\n",
      "            Cafeteira       1.00      1.00      1.00        31\n",
      " Espremedor de Frutas       1.00      1.00      1.00        30\n",
      "       Ferro Eletrico       0.97      1.00      0.98        31\n",
      "            Furadeira       1.00      0.96      0.98        27\n",
      "              Gelagua       1.00      1.00      1.00        24\n",
      "Lampada Incandescente       1.00      1.00      1.00       155\n",
      "       Liquidificador       0.99      1.00      1.00       122\n",
      "     Maquina de Lavar       1.00      1.00      1.00        43\n",
      "          Micro-ondas       1.00      1.00      1.00        68\n",
      "    Prancha de Cabelo       1.00      1.00      1.00        57\n",
      "         Sanduicheira       1.00      1.00      1.00        96\n",
      "    Secador de Cabelo       1.00      0.98      0.99        56\n",
      "                   TV       1.00      1.00      1.00        68\n",
      "           Ventilador       1.00      1.00      1.00        98\n",
      "\n",
      "             accuracy                           1.00       963\n",
      "            macro avg       1.00      1.00      1.00       963\n",
      "         weighted avg       1.00      1.00      1.00       963\n",
      "\n"
     ]
    }
   ],
   "source": [
    "print(metrics.classification_report(y_test, y_predict, zero_division=0))"
   ]
  },
  {
   "cell_type": "code",
   "execution_count": 7,
   "metadata": {},
   "outputs": [
    {
     "name": "stdout",
     "output_type": "stream",
     "text": [
      "[[ 33   0   0   0   0   0   0   0   0   0   0   0   0   0   0   0]\n",
      " [  0  24   0   0   0   0   0   0   0   0   0   0   0   0   0   0]\n",
      " [  0   0  31   0   0   0   0   0   0   0   0   0   0   0   0   0]\n",
      " [  0   0   0  30   0   0   0   0   0   0   0   0   0   0   0   0]\n",
      " [  0   0   0   0  31   0   0   0   0   0   0   0   0   0   0   0]\n",
      " [  0   0   0   0   0  26   0   0   1   0   0   0   0   0   0   0]\n",
      " [  0   0   0   0   0   0  24   0   0   0   0   0   0   0   0   0]\n",
      " [  0   0   0   0   0   0   0 155   0   0   0   0   0   0   0   0]\n",
      " [  0   0   0   0   0   0   0   0 122   0   0   0   0   0   0   0]\n",
      " [  0   0   0   0   0   0   0   0   0  43   0   0   0   0   0   0]\n",
      " [  0   0   0   0   0   0   0   0   0   0  68   0   0   0   0   0]\n",
      " [  0   0   0   0   0   0   0   0   0   0   0  57   0   0   0   0]\n",
      " [  0   0   0   0   0   0   0   0   0   0   0   0  96   0   0   0]\n",
      " [  0   0   0   0   1   0   0   0   0   0   0   0   0  55   0   0]\n",
      " [  0   0   0   0   0   0   0   0   0   0   0   0   0   0  68   0]\n",
      " [  0   0   0   0   0   0   0   0   0   0   0   0   0   0   0  98]]\n"
     ]
    }
   ],
   "source": [
    "print(metrics.confusion_matrix(y_test, y_predict))"
   ]
  },
  {
   "cell_type": "code",
   "execution_count": null,
   "metadata": {},
   "outputs": [],
   "source": []
  },
  {
   "cell_type": "code",
   "execution_count": null,
   "metadata": {},
   "outputs": [],
   "source": []
  }
 ],
 "metadata": {
  "interpreter": {
   "hash": "1d3545ee2c40c2af53d94dbd6f67ac799fa3211d3719e50a70943e4d4c410149"
  },
  "kernelspec": {
   "display_name": "Python 3.9.10 64-bit (windows store)",
   "language": "python",
   "name": "python3"
  },
  "language_info": {
   "codemirror_mode": {
    "name": "ipython",
    "version": 3
   },
   "file_extension": ".py",
   "mimetype": "text/x-python",
   "name": "python",
   "nbconvert_exporter": "python",
   "pygments_lexer": "ipython3",
   "version": "3.8.10"
  },
  "orig_nbformat": 4
 },
 "nbformat": 4,
 "nbformat_minor": 2
}
