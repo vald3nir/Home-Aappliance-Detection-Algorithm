{
 "cells": [
  {
   "cell_type": "code",
   "execution_count": 1,
   "metadata": {},
   "outputs": [],
   "source": [
    "import matplotlib.pyplot as plt\n",
    "import pandas as pd\n",
    "\n",
    "from sklearn import metrics\n",
    "from sklearn.ensemble import RandomForestClassifier\n",
    "from sklearn.model_selection import train_test_split\n",
    "from sklearn.neighbors import KNeighborsClassifier\n",
    "from sklearn.neural_network import MLPClassifier\n",
    "from sklearn.preprocessing import StandardScaler\n",
    "from sklearn.svm import SVC\n",
    "from sklearn.tree import DecisionTreeClassifier\n",
    "from sklearn.decomposition import PCA\n",
    "from sklearn.preprocessing import StandardScaler"
   ]
  },
  {
   "cell_type": "code",
   "execution_count": 2,
   "metadata": {},
   "outputs": [],
   "source": [
    "# Reading the base dataset\n",
    "dataset = pd.read_csv('data/dataset.csv')"
   ]
  },
  {
   "cell_type": "code",
   "execution_count": 3,
   "metadata": {},
   "outputs": [],
   "source": [
    "# Splitting data sets for training\n",
    "inputs = dataset.iloc[:, 1:].values\n",
    "outputs = dataset.iloc[:, 0].values\n",
    "\n",
    "x_train, x_test, y_train, y_test = train_test_split(inputs, outputs, test_size=.3)"
   ]
  },
  {
   "cell_type": "code",
   "execution_count": 4,
   "metadata": {},
   "outputs": [],
   "source": [
    "# Standardizing the dataset\n",
    "scaler = StandardScaler()\n",
    "scaler.fit(x_train)\n",
    "\n",
    "x_train = scaler.transform(x_train)\n",
    "x_test = scaler.transform(x_test)"
   ]
  },
  {
   "cell_type": "code",
   "execution_count": 5,
   "metadata": {},
   "outputs": [],
   "source": [
    "classifier = RandomForestClassifier()\n",
    "classifier.fit(x_train, y_train)\n",
    "y_predict = classifier.predict(x_test)"
   ]
  },
  {
   "cell_type": "code",
   "execution_count": 6,
   "metadata": {},
   "outputs": [
    {
     "name": "stdout",
     "output_type": "stream",
     "text": [
      "                       precision    recall  f1-score   support\n",
      "\n",
      "            Air Fryer       1.00      1.00      1.00        34\n",
      "            Batedeira       1.00      1.00      1.00        34\n",
      "            Cafeteira       1.00      1.00      1.00        30\n",
      " Espremedor de Frutas       1.00      1.00      1.00        27\n",
      "       Ferro Eletrico       1.00      1.00      1.00        51\n",
      "            Furadeira       1.00      1.00      1.00        33\n",
      "              Gelagua       1.00      1.00      1.00        28\n",
      "Lampada Incandescente       1.00      1.00      1.00       151\n",
      "       Liquidificador       1.00      1.00      1.00       120\n",
      "     Maquina de Lavar       1.00      1.00      1.00        45\n",
      "          Micro-ondas       1.00      1.00      1.00        65\n",
      "    Prancha de Cabelo       1.00      1.00      1.00        68\n",
      "         Sanduicheira       1.00      1.00      1.00        92\n",
      "    Secador de Cabelo       1.00      1.00      1.00        58\n",
      "                   TV       1.00      1.00      1.00        46\n",
      "           Ventilador       1.00      1.00      1.00        81\n",
      "\n",
      "             accuracy                           1.00       963\n",
      "            macro avg       1.00      1.00      1.00       963\n",
      "         weighted avg       1.00      1.00      1.00       963\n",
      "\n"
     ]
    }
   ],
   "source": [
    "print(metrics.classification_report(y_test, y_predict, zero_division=0))"
   ]
  },
  {
   "cell_type": "code",
   "execution_count": 7,
   "metadata": {},
   "outputs": [
    {
     "name": "stdout",
     "output_type": "stream",
     "text": [
      "[[ 34   0   0   0   0   0   0   0   0   0   0   0   0   0   0   0]\n",
      " [  0  34   0   0   0   0   0   0   0   0   0   0   0   0   0   0]\n",
      " [  0   0  30   0   0   0   0   0   0   0   0   0   0   0   0   0]\n",
      " [  0   0   0  27   0   0   0   0   0   0   0   0   0   0   0   0]\n",
      " [  0   0   0   0  51   0   0   0   0   0   0   0   0   0   0   0]\n",
      " [  0   0   0   0   0  33   0   0   0   0   0   0   0   0   0   0]\n",
      " [  0   0   0   0   0   0  28   0   0   0   0   0   0   0   0   0]\n",
      " [  0   0   0   0   0   0   0 151   0   0   0   0   0   0   0   0]\n",
      " [  0   0   0   0   0   0   0   0 120   0   0   0   0   0   0   0]\n",
      " [  0   0   0   0   0   0   0   0   0  45   0   0   0   0   0   0]\n",
      " [  0   0   0   0   0   0   0   0   0   0  65   0   0   0   0   0]\n",
      " [  0   0   0   0   0   0   0   0   0   0   0  68   0   0   0   0]\n",
      " [  0   0   0   0   0   0   0   0   0   0   0   0  92   0   0   0]\n",
      " [  0   0   0   0   0   0   0   0   0   0   0   0   0  58   0   0]\n",
      " [  0   0   0   0   0   0   0   0   0   0   0   0   0   0  46   0]\n",
      " [  0   0   0   0   0   0   0   0   0   0   0   0   0   0   0  81]]\n"
     ]
    }
   ],
   "source": [
    "print(metrics.confusion_matrix(y_test, y_predict))"
   ]
  },
  {
   "cell_type": "code",
   "execution_count": 8,
   "metadata": {},
   "outputs": [],
   "source": [
    "classifier = DecisionTreeClassifier()\n",
    "classifier.fit(x_train, y_train)\n",
    "y_predict = classifier.predict(x_test)"
   ]
  },
  {
   "cell_type": "code",
   "execution_count": 9,
   "metadata": {},
   "outputs": [
    {
     "name": "stdout",
     "output_type": "stream",
     "text": [
      "                       precision    recall  f1-score   support\n",
      "\n",
      "            Air Fryer       1.00      1.00      1.00        34\n",
      "            Batedeira       1.00      1.00      1.00        34\n",
      "            Cafeteira       1.00      0.97      0.98        30\n",
      " Espremedor de Frutas       1.00      1.00      1.00        27\n",
      "       Ferro Eletrico       0.96      0.98      0.97        51\n",
      "            Furadeira       1.00      1.00      1.00        33\n",
      "              Gelagua       1.00      1.00      1.00        28\n",
      "Lampada Incandescente       1.00      0.99      1.00       151\n",
      "       Liquidificador       1.00      1.00      1.00       120\n",
      "     Maquina de Lavar       1.00      1.00      1.00        45\n",
      "          Micro-ondas       1.00      1.00      1.00        65\n",
      "    Prancha de Cabelo       1.00      1.00      1.00        68\n",
      "         Sanduicheira       1.00      1.00      1.00        92\n",
      "    Secador de Cabelo       0.98      0.97      0.97        58\n",
      "                   TV       1.00      1.00      1.00        46\n",
      "           Ventilador       0.98      1.00      0.99        81\n",
      "\n",
      "             accuracy                           0.99       963\n",
      "            macro avg       0.99      0.99      0.99       963\n",
      "         weighted avg       0.99      0.99      0.99       963\n",
      "\n"
     ]
    }
   ],
   "source": [
    "print(metrics.classification_report(y_test, y_predict, zero_division=0))"
   ]
  },
  {
   "cell_type": "code",
   "execution_count": 10,
   "metadata": {},
   "outputs": [
    {
     "name": "stdout",
     "output_type": "stream",
     "text": [
      "[[ 34   0   0   0   0   0   0   0   0   0   0   0   0   0   0   0]\n",
      " [  0  34   0   0   0   0   0   0   0   0   0   0   0   0   0   0]\n",
      " [  0   0  29   0   0   0   0   0   0   0   0   0   0   0   0   1]\n",
      " [  0   0   0  27   0   0   0   0   0   0   0   0   0   0   0   0]\n",
      " [  0   0   0   0  50   0   0   0   0   0   0   0   0   1   0   0]\n",
      " [  0   0   0   0   0  33   0   0   0   0   0   0   0   0   0   0]\n",
      " [  0   0   0   0   0   0  28   0   0   0   0   0   0   0   0   0]\n",
      " [  0   0   0   0   0   0   0 150   0   0   0   0   0   0   0   1]\n",
      " [  0   0   0   0   0   0   0   0 120   0   0   0   0   0   0   0]\n",
      " [  0   0   0   0   0   0   0   0   0  45   0   0   0   0   0   0]\n",
      " [  0   0   0   0   0   0   0   0   0   0  65   0   0   0   0   0]\n",
      " [  0   0   0   0   0   0   0   0   0   0   0  68   0   0   0   0]\n",
      " [  0   0   0   0   0   0   0   0   0   0   0   0  92   0   0   0]\n",
      " [  0   0   0   0   2   0   0   0   0   0   0   0   0  56   0   0]\n",
      " [  0   0   0   0   0   0   0   0   0   0   0   0   0   0  46   0]\n",
      " [  0   0   0   0   0   0   0   0   0   0   0   0   0   0   0  81]]\n"
     ]
    }
   ],
   "source": [
    "print(metrics.confusion_matrix(y_test, y_predict))"
   ]
  },
  {
   "cell_type": "code",
   "execution_count": 11,
   "metadata": {},
   "outputs": [],
   "source": [
    "classifier = KNeighborsClassifier()\n",
    "classifier.fit(x_train, y_train)\n",
    "y_predict = classifier.predict(x_test)"
   ]
  },
  {
   "cell_type": "code",
   "execution_count": 12,
   "metadata": {},
   "outputs": [
    {
     "name": "stdout",
     "output_type": "stream",
     "text": [
      "                       precision    recall  f1-score   support\n",
      "\n",
      "            Air Fryer       1.00      0.91      0.95        34\n",
      "            Batedeira       0.93      0.38      0.54        34\n",
      "            Cafeteira       0.73      0.73      0.73        30\n",
      " Espremedor de Frutas       0.77      1.00      0.87        27\n",
      "       Ferro Eletrico       0.81      0.98      0.88        51\n",
      "            Furadeira       0.66      0.64      0.65        33\n",
      "              Gelagua       0.75      0.75      0.75        28\n",
      "Lampada Incandescente       0.72      0.78      0.75       151\n",
      "       Liquidificador       0.98      0.86      0.92       120\n",
      "     Maquina de Lavar       0.74      0.89      0.81        45\n",
      "          Micro-ondas       1.00      1.00      1.00        65\n",
      "    Prancha de Cabelo       0.68      0.65      0.66        68\n",
      "         Sanduicheira       0.97      0.97      0.97        92\n",
      "    Secador de Cabelo       0.98      0.84      0.91        58\n",
      "                   TV       1.00      0.78      0.88        46\n",
      "           Ventilador       0.43      0.53      0.48        81\n",
      "\n",
      "             accuracy                           0.80       963\n",
      "            macro avg       0.82      0.79      0.80       963\n",
      "         weighted avg       0.82      0.80      0.80       963\n",
      "\n"
     ]
    }
   ],
   "source": [
    "print(metrics.classification_report(y_test, y_predict, zero_division=0))"
   ]
  },
  {
   "cell_type": "code",
   "execution_count": 13,
   "metadata": {},
   "outputs": [
    {
     "name": "stdout",
     "output_type": "stream",
     "text": [
      "[[ 31   0   0   0   3   0   0   0   0   0   0   0   0   0   0   0]\n",
      " [  0  13   0   0   0   0   3   7   0   0   0   5   0   0   0   6]\n",
      " [  0   0  22   0   0   0   0   0   0   5   0   0   3   0   0   0]\n",
      " [  0   0   0  27   0   0   0   0   0   0   0   0   0   0   0   0]\n",
      " [  0   0   0   0  50   0   0   0   0   0   0   0   0   1   0   0]\n",
      " [  0   0   1   3   0  21   0   0   2   6   0   0   0   0   0   0]\n",
      " [  0   0   0   0   0   0  21   1   0   0   0   0   0   0   0   6]\n",
      " [  0   0   0   0   0   0   0 118   0   0   0   2   0   0   0  31]\n",
      " [  0   0   2   4   0  11   0   0 103   0   0   0   0   0   0   0]\n",
      " [  0   0   5   0   0   0   0   0   0  40   0   0   0   0   0   0]\n",
      " [  0   0   0   0   0   0   0   0   0   0  65   0   0   0   0   0]\n",
      " [  0   0   0   0   0   0   1   9   0   0   0  44   0   0   0  14]\n",
      " [  0   0   0   0   0   0   0   0   0   3   0   0  89   0   0   0]\n",
      " [  0   0   0   0   9   0   0   0   0   0   0   0   0  49   0   0]\n",
      " [  0   0   0   1   0   0   3   2   0   0   0   4   0   0  36   0]\n",
      " [  0   1   0   0   0   0   0  27   0   0   0  10   0   0   0  43]]\n"
     ]
    }
   ],
   "source": [
    "print(metrics.confusion_matrix(y_test, y_predict))"
   ]
  },
  {
   "cell_type": "code",
   "execution_count": 14,
   "metadata": {},
   "outputs": [],
   "source": [
    "classifier = SVC(kernel='linear', C=5.0)\n",
    "classifier.fit(x_train, y_train)\n",
    "y_predict = classifier.predict(x_test)"
   ]
  },
  {
   "cell_type": "code",
   "execution_count": 15,
   "metadata": {},
   "outputs": [
    {
     "name": "stdout",
     "output_type": "stream",
     "text": [
      "                       precision    recall  f1-score   support\n",
      "\n",
      "            Air Fryer       1.00      1.00      1.00        34\n",
      "            Batedeira       0.97      1.00      0.99        34\n",
      "            Cafeteira       1.00      0.93      0.97        30\n",
      " Espremedor de Frutas       1.00      1.00      1.00        27\n",
      "       Ferro Eletrico       0.93      0.82      0.87        51\n",
      "            Furadeira       1.00      0.97      0.98        33\n",
      "              Gelagua       1.00      1.00      1.00        28\n",
      "Lampada Incandescente       0.99      1.00      0.99       151\n",
      "       Liquidificador       0.99      1.00      1.00       120\n",
      "     Maquina de Lavar       0.96      1.00      0.98        45\n",
      "          Micro-ondas       1.00      1.00      1.00        65\n",
      "    Prancha de Cabelo       1.00      0.99      0.99        68\n",
      "         Sanduicheira       1.00      1.00      1.00        92\n",
      "    Secador de Cabelo       0.86      0.95      0.90        58\n",
      "                   TV       1.00      1.00      1.00        46\n",
      "           Ventilador       1.00      0.98      0.99        81\n",
      "\n",
      "             accuracy                           0.98       963\n",
      "            macro avg       0.98      0.98      0.98       963\n",
      "         weighted avg       0.98      0.98      0.98       963\n",
      "\n"
     ]
    }
   ],
   "source": [
    "print(metrics.classification_report(y_test, y_predict, zero_division=0))"
   ]
  },
  {
   "cell_type": "code",
   "execution_count": 16,
   "metadata": {},
   "outputs": [
    {
     "name": "stdout",
     "output_type": "stream",
     "text": [
      "[[ 34   0   0   0   0   0   0   0   0   0   0   0   0   0   0   0]\n",
      " [  0  34   0   0   0   0   0   0   0   0   0   0   0   0   0   0]\n",
      " [  0   0  28   0   0   0   0   0   0   2   0   0   0   0   0   0]\n",
      " [  0   0   0  27   0   0   0   0   0   0   0   0   0   0   0   0]\n",
      " [  0   0   0   0  42   0   0   0   0   0   0   0   0   9   0   0]\n",
      " [  0   0   0   0   0  32   0   0   1   0   0   0   0   0   0   0]\n",
      " [  0   0   0   0   0   0  28   0   0   0   0   0   0   0   0   0]\n",
      " [  0   0   0   0   0   0   0 151   0   0   0   0   0   0   0   0]\n",
      " [  0   0   0   0   0   0   0   0 120   0   0   0   0   0   0   0]\n",
      " [  0   0   0   0   0   0   0   0   0  45   0   0   0   0   0   0]\n",
      " [  0   0   0   0   0   0   0   0   0   0  65   0   0   0   0   0]\n",
      " [  0   1   0   0   0   0   0   0   0   0   0  67   0   0   0   0]\n",
      " [  0   0   0   0   0   0   0   0   0   0   0   0  92   0   0   0]\n",
      " [  0   0   0   0   3   0   0   0   0   0   0   0   0  55   0   0]\n",
      " [  0   0   0   0   0   0   0   0   0   0   0   0   0   0  46   0]\n",
      " [  0   0   0   0   0   0   0   2   0   0   0   0   0   0   0  79]]\n"
     ]
    }
   ],
   "source": [
    "print(metrics.confusion_matrix(y_test, y_predict))"
   ]
  },
  {
   "cell_type": "code",
   "execution_count": 17,
   "metadata": {},
   "outputs": [
    {
     "name": "stderr",
     "output_type": "stream",
     "text": [
      "/home/dev/.local/lib/python3.8/site-packages/sklearn/neural_network/_multilayer_perceptron.py:692: ConvergenceWarning: Stochastic Optimizer: Maximum iterations (200) reached and the optimization hasn't converged yet.\n",
      "  warnings.warn(\n"
     ]
    }
   ],
   "source": [
    "classifier = MLPClassifier(hidden_layer_sizes=(20, 20, 20))\n",
    "classifier.fit(x_train, y_train)\n",
    "y_predict = classifier.predict(x_test)"
   ]
  },
  {
   "cell_type": "code",
   "execution_count": 18,
   "metadata": {},
   "outputs": [
    {
     "name": "stdout",
     "output_type": "stream",
     "text": [
      "                       precision    recall  f1-score   support\n",
      "\n",
      "            Air Fryer       1.00      1.00      1.00        34\n",
      "            Batedeira       0.94      0.88      0.91        34\n",
      "            Cafeteira       1.00      1.00      1.00        30\n",
      " Espremedor de Frutas       1.00      1.00      1.00        27\n",
      "       Ferro Eletrico       0.83      0.86      0.85        51\n",
      "            Furadeira       0.94      0.88      0.91        33\n",
      "              Gelagua       0.87      0.93      0.90        28\n",
      "Lampada Incandescente       0.99      1.00      0.99       151\n",
      "       Liquidificador       0.97      0.98      0.98       120\n",
      "     Maquina de Lavar       1.00      1.00      1.00        45\n",
      "          Micro-ondas       1.00      1.00      1.00        65\n",
      "    Prancha de Cabelo       1.00      0.99      0.99        68\n",
      "         Sanduicheira       1.00      1.00      1.00        92\n",
      "    Secador de Cabelo       0.88      0.84      0.86        58\n",
      "                   TV       1.00      1.00      1.00        46\n",
      "           Ventilador       0.99      0.98      0.98        81\n",
      "\n",
      "             accuracy                           0.97       963\n",
      "            macro avg       0.96      0.96      0.96       963\n",
      "         weighted avg       0.97      0.97      0.97       963\n",
      "\n"
     ]
    }
   ],
   "source": [
    "print(metrics.classification_report(y_test, y_predict, zero_division=0))"
   ]
  },
  {
   "cell_type": "code",
   "execution_count": 19,
   "metadata": {},
   "outputs": [
    {
     "name": "stdout",
     "output_type": "stream",
     "text": [
      "[[ 34   0   0   0   0   0   0   0   0   0   0   0   0   0   0   0]\n",
      " [  0  30   0   0   0   0   3   0   0   0   0   0   0   0   0   1]\n",
      " [  0   0  30   0   0   0   0   0   0   0   0   0   0   0   0   0]\n",
      " [  0   0   0  27   0   0   0   0   0   0   0   0   0   0   0   0]\n",
      " [  0   0   0   0  44   0   0   0   0   0   0   0   0   7   0   0]\n",
      " [  0   0   0   0   0  29   0   0   4   0   0   0   0   0   0   0]\n",
      " [  0   2   0   0   0   0  26   0   0   0   0   0   0   0   0   0]\n",
      " [  0   0   0   0   0   0   0 151   0   0   0   0   0   0   0   0]\n",
      " [  0   0   0   0   0   2   0   0 118   0   0   0   0   0   0   0]\n",
      " [  0   0   0   0   0   0   0   0   0  45   0   0   0   0   0   0]\n",
      " [  0   0   0   0   0   0   0   0   0   0  65   0   0   0   0   0]\n",
      " [  0   0   0   0   0   0   1   0   0   0   0  67   0   0   0   0]\n",
      " [  0   0   0   0   0   0   0   0   0   0   0   0  92   0   0   0]\n",
      " [  0   0   0   0   9   0   0   0   0   0   0   0   0  49   0   0]\n",
      " [  0   0   0   0   0   0   0   0   0   0   0   0   0   0  46   0]\n",
      " [  0   0   0   0   0   0   0   2   0   0   0   0   0   0   0  79]]\n"
     ]
    }
   ],
   "source": [
    "print(metrics.confusion_matrix(y_test, y_predict))"
   ]
  },
  {
   "cell_type": "code",
   "execution_count": 20,
   "metadata": {},
   "outputs": [],
   "source": [
    "# Splitting data sets for training\n",
    "inputs = dataset.iloc[:, 1:3].values\n",
    "outputs = dataset.iloc[:, 0].values"
   ]
  },
  {
   "cell_type": "code",
   "execution_count": 21,
   "metadata": {},
   "outputs": [],
   "source": [
    "pca = PCA(n_components=2)\n",
    "components = pca.fit_transform(StandardScaler().fit_transform(inputs))\n",
    "targets = set(outputs)"
   ]
  },
  {
   "cell_type": "code",
   "execution_count": 22,
   "metadata": {},
   "outputs": [
    {
     "data": {
      "image/png": "[encoded data removed]",
      "text/plain": [
       "<Figure size 576x576 with 1 Axes>"
      ]
     },
     "metadata": {
      "needs_background": "light"
     },
     "output_type": "display_data"
    }
   ],
   "source": [
    "fig = plt.figure(figsize=(8, 8))\n",
    "ax = fig.add_subplot(1, 1, 1)\n",
    "\n",
    "ax.set_title('Components PCA', fontsize=20)\n",
    "ax.set_xlabel('Firs Component', fontsize=15)\n",
    "ax.set_ylabel('Second  Component', fontsize=15)\n",
    "\n",
    "final_frame = pd.DataFrame(data=components, columns=['component_1', 'component_2'])\n",
    "final_df = pd.concat([final_frame, dataset[['home_appliance']]], axis=1)\n",
    "\n",
    "colors = [\"lime\", \"grey\", \"maroon\", \"red\", \"m\", \"seagreen\", \"coral\", \"orange\", \"blue\",\n",
    "          \"pink\", \"c\", \"k\", \"darkblue\", \"y\"]\n",
    "\n",
    "for target, color in zip(targets, colors):\n",
    "    indices_to_keep = final_df['home_appliance'] == target\n",
    "    x = final_df.loc[indices_to_keep, 'component_1']\n",
    "    y = final_df.loc[indices_to_keep, 'component_2']\n",
    "    ax.scatter(x, y, c=color, s=50)\n",
    "    \n",
    "ax.legend(targets)\n",
    "ax.grid()\n",
    "plt.show()"
   ]
  }
 ],
 "metadata": {
  "interpreter": {
   "hash": "1d3545ee2c40c2af53d94dbd6f67ac799fa3211d3719e50a70943e4d4c410149"
  },
  "kernelspec": {
   "display_name": "Python 3.9.10 64-bit (windows store)",
   "language": "python",
   "name": "python3"
  },
  "language_info": {
   "codemirror_mode": {
    "name": "ipython",
    "version": 3
   },
   "file_extension": ".py",
   "mimetype": "text/x-python",
   "name": "python",
   "nbconvert_exporter": "python",
   "pygments_lexer": "ipython3",
   "version": "3.8.10"
  },
  "orig_nbformat": 4
 },
 "nbformat": 4,
 "nbformat_minor": 2
}
